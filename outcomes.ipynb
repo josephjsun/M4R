{
 "cells": [
  {
   "cell_type": "code",
   "execution_count": 2,
   "metadata": {},
   "outputs": [],
   "source": [
    "import pandas as pd\n",
    "from matplotlib import pyplot as plt\n",
    "import random\n",
    "import numpy as np\n",
    "import math\n",
    "import importlib\n",
    "import mcmc_functions\n",
    "importlib.reload(mcmc_functions)\n",
    "\n",
    "from mcmc_functions import *\n",
    "import importlib\n",
    "\n",
    "seasons_missing_df = pd.read_csv('/Users/josephsun/Desktop/M4R/code/premier-league-matches.csv')\n",
    "tables_df = pd.read_csv('/Users/josephsun/Desktop/M4R/code/pl-tables-1993-2024.csv')\n",
    "recent_df = pd.read_csv('matches.csv')\n",
    "recent_df = recent_df[recent_df['Venue'] == 'Home']"
   ]
  },
  {
   "cell_type": "code",
   "execution_count": 3,
   "metadata": {},
   "outputs": [],
   "source": [
    "converted_recent_df = convert_match_data(recent_df)\n",
    "converted_recent_df = converted_recent_df.sort_values(by='Wk').reset_index(drop=True)\n",
    "\n",
    "seasons_df = pd.concat([seasons_missing_df, converted_recent_df], ignore_index=True)"
   ]
  },
  {
   "cell_type": "code",
   "execution_count": null,
   "metadata": {},
   "outputs": [],
   "source": [
    "strength_dict, parameters, acceptance_counters, tracked_parameters, strength_dict_original = (\n",
    "mcmc(seasons_df, 2015, 2024, burn_in = 10000, iterations = ))"
   ]
  }
 ],
 "metadata": {
  "kernelspec": {
   "display_name": "mcmc_venv",
   "language": "python",
   "name": "python3"
  },
  "language_info": {
   "codemirror_mode": {
    "name": "ipython",
    "version": 3
   },
   "file_extension": ".py",
   "mimetype": "text/x-python",
   "name": "python",
   "nbconvert_exporter": "python",
   "pygments_lexer": "ipython3",
   "version": "3.12.1"
  }
 },
 "nbformat": 4,
 "nbformat_minor": 2
}
